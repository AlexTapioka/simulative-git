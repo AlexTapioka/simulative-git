{
  "nbformat": 4,
  "nbformat_minor": 0,
  "metadata": {
    "colab": {
      "provenance": [],
      "collapsed_sections": [
        "Y28v-MAW25DQ",
        "YyC1aTlrSZI9"
      ],
      "authorship_tag": "ABX9TyM4bzraB2+fgzWrQXiqfTbV",
      "include_colab_link": true
    },
    "kernelspec": {
      "name": "python3",
      "display_name": "Python 3"
    },
    "language_info": {
      "name": "python"
    }
  },
  "cells": [
    {
      "cell_type": "markdown",
      "metadata": {
        "id": "view-in-github",
        "colab_type": "text"
      },
      "source": [
        "<a href=\"https://colab.research.google.com/github/AlexTapioka/simulative-git/blob/main/Numpy_.ipynb\" target=\"_parent\"><img src=\"https://colab.research.google.com/assets/colab-badge.svg\" alt=\"Open In Colab\"/></a>"
      ]
    },
    {
      "cell_type": "code",
      "source": [
        "import numpy as np"
      ],
      "metadata": {
        "id": "Ba_YTcAIiIM-"
      },
      "execution_count": 186,
      "outputs": []
    },
    {
      "cell_type": "markdown",
      "source": [
        "#Numpy. Урок 1"
      ],
      "metadata": {
        "id": "cRaeoF8J9VZf"
      }
    },
    {
      "cell_type": "markdown",
      "source": [
        "##Одномерные массивы\n"
      ],
      "metadata": {
        "id": "De028gI4F0dl"
      }
    },
    {
      "cell_type": "markdown",
      "source": [
        "Подключение библиотеки"
      ],
      "metadata": {
        "id": "VxHExTZj-Plq"
      }
    },
    {
      "cell_type": "code",
      "source": [
        "import numpy as np"
      ],
      "metadata": {
        "id": "POQnujDc9did"
      },
      "execution_count": 169,
      "outputs": []
    },
    {
      "cell_type": "markdown",
      "source": [
        "Создать одномерный массив"
      ],
      "metadata": {
        "id": "db-8L63E-g8n"
      }
    },
    {
      "cell_type": "code",
      "source": [
        "a = np.array([1, 2, 3, 4, 5])\n"
      ],
      "metadata": {
        "id": "OwvX3xYd_98p"
      },
      "execution_count": 170,
      "outputs": []
    },
    {
      "cell_type": "markdown",
      "source": [
        "Тип массива"
      ],
      "metadata": {
        "id": "6NU1M_6dALFy"
      }
    },
    {
      "cell_type": "code",
      "source": [
        "type(a)"
      ],
      "metadata": {
        "colab": {
          "base_uri": "https://localhost:8080/"
        },
        "id": "Uh8aIKs1APrw",
        "outputId": "9e6abcda-e2b7-424d-806b-39ee83f52331"
      },
      "execution_count": 171,
      "outputs": [
        {
          "output_type": "execute_result",
          "data": {
            "text/plain": [
              "numpy.ndarray"
            ]
          },
          "metadata": {},
          "execution_count": 171
        }
      ]
    },
    {
      "cell_type": "markdown",
      "source": [
        "Число элеменов массива"
      ],
      "metadata": {
        "id": "JqCX4aihAorW"
      }
    },
    {
      "cell_type": "code",
      "source": [
        "a.shape"
      ],
      "metadata": {
        "colab": {
          "base_uri": "https://localhost:8080/"
        },
        "id": "SiaQfSahAu8s",
        "outputId": "af9f57b4-dfe1-43a8-e5ae-501ad4d2667a"
      },
      "execution_count": 172,
      "outputs": [
        {
          "output_type": "execute_result",
          "data": {
            "text/plain": [
              "(5,)"
            ]
          },
          "metadata": {},
          "execution_count": 172
        }
      ]
    },
    {
      "cell_type": "markdown",
      "source": [
        "Размерность массива"
      ],
      "metadata": {
        "id": "mTzLHvd_AyXp"
      }
    },
    {
      "cell_type": "code",
      "source": [
        "a.ndim"
      ],
      "metadata": {
        "colab": {
          "base_uri": "https://localhost:8080/"
        },
        "id": "hq0R2wlgA2vy",
        "outputId": "d481608f-d1a9-45c7-ecbc-47242de71eec"
      },
      "execution_count": 173,
      "outputs": [
        {
          "output_type": "execute_result",
          "data": {
            "text/plain": [
              "1"
            ]
          },
          "metadata": {},
          "execution_count": 173
        }
      ]
    },
    {
      "cell_type": "markdown",
      "source": [
        "Тип элементов массива"
      ],
      "metadata": {
        "id": "1fNs6dVuA7Bl"
      }
    },
    {
      "cell_type": "code",
      "source": [
        "a.dtype"
      ],
      "metadata": {
        "colab": {
          "base_uri": "https://localhost:8080/"
        },
        "id": "4HigsH34BByn",
        "outputId": "c7a8e0db-3119-4589-9e4c-cc77d621860e"
      },
      "execution_count": 174,
      "outputs": [
        {
          "output_type": "execute_result",
          "data": {
            "text/plain": [
              "dtype('int64')"
            ]
          },
          "metadata": {},
          "execution_count": 174
        }
      ]
    },
    {
      "cell_type": "markdown",
      "source": [
        "Установить тип данных при создании массива"
      ],
      "metadata": {
        "id": "v-dih83DBHH9"
      }
    },
    {
      "cell_type": "code",
      "source": [
        "arr = [1,2,3,4,5,6,7,8,9,10]\n",
        "a = np.array(arr, dtype=np.float64)\n",
        "a.dtype"
      ],
      "metadata": {
        "colab": {
          "base_uri": "https://localhost:8080/"
        },
        "id": "f5bS8rLGBPzL",
        "outputId": "68d32da8-f745-40ec-b98b-93f0e9be40dd"
      },
      "execution_count": 175,
      "outputs": [
        {
          "output_type": "execute_result",
          "data": {
            "text/plain": [
              "dtype('float64')"
            ]
          },
          "metadata": {},
          "execution_count": 175
        }
      ]
    },
    {
      "cell_type": "markdown",
      "source": [
        "Изменить тип данных в массиве"
      ],
      "metadata": {
        "id": "771HBZ2PBwXg"
      }
    },
    {
      "cell_type": "code",
      "source": [
        "a.astype(np.int32)\n",
        "a.dtype"
      ],
      "metadata": {
        "colab": {
          "base_uri": "https://localhost:8080/"
        },
        "id": "oBbEE0IwB1nu",
        "outputId": "19d5993d-20f0-451d-8964-39fed64929c0"
      },
      "execution_count": 176,
      "outputs": [
        {
          "output_type": "execute_result",
          "data": {
            "text/plain": [
              "dtype('float64')"
            ]
          },
          "metadata": {},
          "execution_count": 176
        }
      ]
    },
    {
      "cell_type": "markdown",
      "source": [
        "Другой способ создать массив"
      ],
      "metadata": {
        "id": "zINYXbK2Cj6d"
      }
    },
    {
      "cell_type": "code",
      "source": [
        "aff = [1,2,3,4,5,6,7,8,9]\n",
        "b = np.asarray(arr)\n",
        "b"
      ],
      "metadata": {
        "colab": {
          "base_uri": "https://localhost:8080/"
        },
        "id": "tV2uYas1Cmvs",
        "outputId": "7e859331-e9a6-494c-d837-21ab27ba05f2"
      },
      "execution_count": 177,
      "outputs": [
        {
          "output_type": "execute_result",
          "data": {
            "text/plain": [
              "array([ 1,  2,  3,  4,  5,  6,  7,  8,  9, 10])"
            ]
          },
          "metadata": {},
          "execution_count": 177
        }
      ]
    },
    {
      "cell_type": "markdown",
      "source": [
        "###Математичесике операции:\n",
        "\n",
        "\n",
        "---\n",
        "\n"
      ],
      "metadata": {
        "id": "gkRW53rrEsa_"
      }
    },
    {
      "cell_type": "markdown",
      "source": [
        "Над массивами можно осуществлять различные математические операции( сложение по элементам, вычитание, умножение)"
      ],
      "metadata": {
        "id": "7yKUCsQnC4LH"
      }
    },
    {
      "cell_type": "code",
      "source": [
        "a+b"
      ],
      "metadata": {
        "colab": {
          "base_uri": "https://localhost:8080/"
        },
        "id": "93MKngQ-FU_D",
        "outputId": "8f62cf95-fbc2-4ac5-8722-6c69bf85f259"
      },
      "execution_count": 178,
      "outputs": [
        {
          "output_type": "execute_result",
          "data": {
            "text/plain": [
              "array([ 2.,  4.,  6.,  8., 10., 12., 14., 16., 18., 20.])"
            ]
          },
          "metadata": {},
          "execution_count": 178
        }
      ]
    },
    {
      "cell_type": "code",
      "source": [
        "a-b\n"
      ],
      "metadata": {
        "colab": {
          "base_uri": "https://localhost:8080/"
        },
        "id": "oZoHXeGGDIrC",
        "outputId": "1e4bbb90-d4a3-4338-f259-39061deb0d66"
      },
      "execution_count": 179,
      "outputs": [
        {
          "output_type": "execute_result",
          "data": {
            "text/plain": [
              "array([0., 0., 0., 0., 0., 0., 0., 0., 0., 0.])"
            ]
          },
          "metadata": {},
          "execution_count": 179
        }
      ]
    },
    {
      "cell_type": "code",
      "source": [
        "a*b"
      ],
      "metadata": {
        "colab": {
          "base_uri": "https://localhost:8080/"
        },
        "id": "y2J7C9VsFW2h",
        "outputId": "0f1b2e64-f622-482d-c5b8-4286a3fd3d88"
      },
      "execution_count": 180,
      "outputs": [
        {
          "output_type": "execute_result",
          "data": {
            "text/plain": [
              "array([  1.,   4.,   9.,  16.,  25.,  36.,  49.,  64.,  81., 100.])"
            ]
          },
          "metadata": {},
          "execution_count": 180
        }
      ]
    },
    {
      "cell_type": "markdown",
      "source": [
        "Деление одного массива на другой"
      ],
      "metadata": {
        "id": "jtaOwwUBEMp3"
      }
    },
    {
      "cell_type": "code",
      "source": [
        "np.divide(a,b)"
      ],
      "metadata": {
        "colab": {
          "base_uri": "https://localhost:8080/"
        },
        "id": "yksYvorKEP2v",
        "outputId": "67a73fab-3f94-4e33-d26e-8700899d2ff5"
      },
      "execution_count": 181,
      "outputs": [
        {
          "output_type": "execute_result",
          "data": {
            "text/plain": [
              "array([1., 1., 1., 1., 1., 1., 1., 1., 1., 1.])"
            ]
          },
          "metadata": {},
          "execution_count": 181
        }
      ]
    },
    {
      "cell_type": "markdown",
      "source": [
        "###Аггрегирующие функции:\n",
        "\n",
        "---\n",
        "\n"
      ],
      "metadata": {
        "id": "bj9fs5R6FAUo"
      }
    },
    {
      "cell_type": "markdown",
      "source": [
        "Сумма массива"
      ],
      "metadata": {
        "id": "828TDvlmEWXt"
      }
    },
    {
      "cell_type": "code",
      "source": [
        "a.sum()"
      ],
      "metadata": {
        "colab": {
          "base_uri": "https://localhost:8080/"
        },
        "id": "Y2yBj2xREbNc",
        "outputId": "e84ad2c7-8aca-4950-b237-4e189512c157"
      },
      "execution_count": 182,
      "outputs": [
        {
          "output_type": "execute_result",
          "data": {
            "text/plain": [
              "55.0"
            ]
          },
          "metadata": {},
          "execution_count": 182
        }
      ]
    },
    {
      "cell_type": "markdown",
      "source": [
        "Среднее значение массива"
      ],
      "metadata": {
        "id": "2hMVXYPTEen-"
      }
    },
    {
      "cell_type": "code",
      "source": [
        "a.mean()"
      ],
      "metadata": {
        "colab": {
          "base_uri": "https://localhost:8080/"
        },
        "id": "b38gKbcEEjSC",
        "outputId": "f91f79a7-3bdf-4108-cf20-b420f7682798"
      },
      "execution_count": 183,
      "outputs": [
        {
          "output_type": "execute_result",
          "data": {
            "text/plain": [
              "5.5"
            ]
          },
          "metadata": {},
          "execution_count": 183
        }
      ]
    },
    {
      "cell_type": "markdown",
      "source": [
        "Минимум, максимум"
      ],
      "metadata": {
        "id": "WkqPVabXEmAo"
      }
    },
    {
      "cell_type": "code",
      "source": [
        "a.min()"
      ],
      "metadata": {
        "colab": {
          "base_uri": "https://localhost:8080/"
        },
        "id": "f54UMu12FJmq",
        "outputId": "6203a476-5422-4866-be3a-239835f530f3"
      },
      "execution_count": 184,
      "outputs": [
        {
          "output_type": "execute_result",
          "data": {
            "text/plain": [
              "1.0"
            ]
          },
          "metadata": {},
          "execution_count": 184
        }
      ]
    },
    {
      "cell_type": "code",
      "source": [
        "a.max()"
      ],
      "metadata": {
        "colab": {
          "base_uri": "https://localhost:8080/"
        },
        "id": "jcZdjTyJFMlx",
        "outputId": "001ec913-c326-40e5-c9aa-d7198307f8bc"
      },
      "execution_count": 185,
      "outputs": [
        {
          "output_type": "execute_result",
          "data": {
            "text/plain": [
              "10.0"
            ]
          },
          "metadata": {},
          "execution_count": 185
        }
      ]
    },
    {
      "cell_type": "markdown",
      "source": [
        "##Многомерные массивы\n",
        "\n",
        "---\n",
        "\n"
      ],
      "metadata": {
        "id": "blfDQfMrFbiQ"
      }
    },
    {
      "cell_type": "markdown",
      "source": [
        "Создание массива"
      ],
      "metadata": {
        "id": "hsIxMZQ-FsOw"
      }
    },
    {
      "cell_type": "code",
      "source": [
        "arr2 = [1,2,4,5,6],[1,3,4,5,6]\n",
        "b = np.array(arr2)\n",
        "b"
      ],
      "metadata": {
        "colab": {
          "base_uri": "https://localhost:8080/"
        },
        "id": "hemuF_7mGK98",
        "outputId": "be29b8a6-bf31-4fe0-fe2e-8f00d933cd49"
      },
      "execution_count": 18,
      "outputs": [
        {
          "output_type": "execute_result",
          "data": {
            "text/plain": [
              "array([[1, 2, 4, 5, 6],\n",
              "       [1, 3, 4, 5, 6]])"
            ]
          },
          "metadata": {},
          "execution_count": 18
        }
      ]
    },
    {
      "cell_type": "markdown",
      "source": [
        "Размерность массива (кол - во строк, кол-во столбцов)"
      ],
      "metadata": {
        "id": "dEwzevczGqHy"
      }
    },
    {
      "cell_type": "code",
      "source": [
        "b.shape"
      ],
      "metadata": {
        "colab": {
          "base_uri": "https://localhost:8080/"
        },
        "id": "ZI8Pn_zLGs9K",
        "outputId": "3aa49777-b7a6-4bd4-ecac-74651b79a1d7"
      },
      "execution_count": 19,
      "outputs": [
        {
          "output_type": "execute_result",
          "data": {
            "text/plain": [
              "(2, 5)"
            ]
          },
          "metadata": {},
          "execution_count": 19
        }
      ]
    },
    {
      "cell_type": "markdown",
      "source": [
        "Количество размерностей"
      ],
      "metadata": {
        "id": "K6fsfl2rGxPZ"
      }
    },
    {
      "cell_type": "code",
      "source": [
        "b.ndim"
      ],
      "metadata": {
        "colab": {
          "base_uri": "https://localhost:8080/"
        },
        "id": "XssLA5YEHF9e",
        "outputId": "d0520b46-4245-4440-aeb2-4b83332a3190"
      },
      "execution_count": 20,
      "outputs": [
        {
          "output_type": "execute_result",
          "data": {
            "text/plain": [
              "2"
            ]
          },
          "metadata": {},
          "execution_count": 20
        }
      ]
    },
    {
      "cell_type": "markdown",
      "source": [
        "###Математические операции"
      ],
      "metadata": {
        "id": "mNMcwwsaHOJq"
      }
    },
    {
      "cell_type": "markdown",
      "source": [
        "Сложение (поэлементное сложение)"
      ],
      "metadata": {
        "id": "l4tBEa4BHUNg"
      }
    },
    {
      "cell_type": "code",
      "source": [
        "c = np.array(arr2)\n",
        "b + c"
      ],
      "metadata": {
        "colab": {
          "base_uri": "https://localhost:8080/"
        },
        "id": "-9cDOdx9HW9M",
        "outputId": "c48d6456-8b13-43a3-9c7e-43e4c905e600"
      },
      "execution_count": 21,
      "outputs": [
        {
          "output_type": "execute_result",
          "data": {
            "text/plain": [
              "array([[ 2,  4,  8, 10, 12],\n",
              "       [ 2,  6,  8, 10, 12]])"
            ]
          },
          "metadata": {},
          "execution_count": 21
        }
      ]
    },
    {
      "cell_type": "markdown",
      "source": [
        "###Аггрерирующие функции\n"
      ],
      "metadata": {
        "id": "TBX8budbHlq1"
      }
    },
    {
      "cell_type": "markdown",
      "source": [
        "Можно применять по размерностям:\n",
        "\n",
        "axis = 0 (кол-во матриц, из которых состоит массив)\n",
        "\n",
        "axis = 1 (кол-во строк в каждой матрице)\n",
        "\n",
        "axis = 2 (кол-во столбцов в каждой матрице)"
      ],
      "metadata": {
        "id": "N4HLXoUgIQRI"
      }
    },
    {
      "cell_type": "code",
      "source": [
        "arr3 = [\n",
        "    [\n",
        "    [1, 2, 3, 4, 5, 6],\n",
        "    [90, 2, 3, 4, 5, 6]\n",
        "    ],\n",
        "    [\n",
        "    [1, 2, 3, 4, 5, 6],\n",
        "    [9, 2, 3, 4, 5, 6]\n",
        "    ],\n",
        "    [\n",
        "    [1, 2, 3, 4, 5, 6],\n",
        "    [113, 2, 3, 4, 5, 6]\n",
        "    ]\n",
        "    ]\n",
        "c = np.array(arr3, dtype = np.int32)\n"
      ],
      "metadata": {
        "id": "ECKwlScRNr9D"
      },
      "execution_count": 22,
      "outputs": []
    },
    {
      "cell_type": "code",
      "source": [
        "c.shape"
      ],
      "metadata": {
        "colab": {
          "base_uri": "https://localhost:8080/"
        },
        "id": "ADrJR3lBRTFi",
        "outputId": "7b2c1577-bacb-4edf-f038-2fa29da64ec1"
      },
      "execution_count": 23,
      "outputs": [
        {
          "output_type": "execute_result",
          "data": {
            "text/plain": [
              "(3, 2, 6)"
            ]
          },
          "metadata": {},
          "execution_count": 23
        }
      ]
    },
    {
      "cell_type": "code",
      "source": [
        "c.sum(axis = 0)"
      ],
      "metadata": {
        "colab": {
          "base_uri": "https://localhost:8080/"
        },
        "id": "qJ8uxuN7OjMO",
        "outputId": "6747a9b2-73e0-41a7-964f-4c746bb78951"
      },
      "execution_count": 24,
      "outputs": [
        {
          "output_type": "execute_result",
          "data": {
            "text/plain": [
              "array([[  3,   6,   9,  12,  15,  18],\n",
              "       [212,   6,   9,  12,  15,  18]])"
            ]
          },
          "metadata": {},
          "execution_count": 24
        }
      ]
    },
    {
      "cell_type": "code",
      "source": [
        "c.sum(axis = 1)"
      ],
      "metadata": {
        "colab": {
          "base_uri": "https://localhost:8080/"
        },
        "id": "_mXtQ5A3P5PZ",
        "outputId": "766a421c-4302-469a-cdc7-210dc638406d"
      },
      "execution_count": 25,
      "outputs": [
        {
          "output_type": "execute_result",
          "data": {
            "text/plain": [
              "array([[ 91,   4,   6,   8,  10,  12],\n",
              "       [ 10,   4,   6,   8,  10,  12],\n",
              "       [114,   4,   6,   8,  10,  12]])"
            ]
          },
          "metadata": {},
          "execution_count": 25
        }
      ]
    },
    {
      "cell_type": "code",
      "source": [
        "c.sum(axis = 2)"
      ],
      "metadata": {
        "colab": {
          "base_uri": "https://localhost:8080/"
        },
        "id": "b1DvkIeoQi20",
        "outputId": "0cb00120-06ba-4068-b325-606a136c2d0d"
      },
      "execution_count": 26,
      "outputs": [
        {
          "output_type": "execute_result",
          "data": {
            "text/plain": [
              "array([[ 21, 110],\n",
              "       [ 21,  29],\n",
              "       [ 21, 133]])"
            ]
          },
          "metadata": {},
          "execution_count": 26
        }
      ]
    },
    {
      "cell_type": "code",
      "source": [
        "c.sum( axis=(0, 1) ) # Сумма всех строк во всех матрицах"
      ],
      "metadata": {
        "colab": {
          "base_uri": "https://localhost:8080/"
        },
        "id": "S6yLW2_JRNcl",
        "outputId": "0c34a8ee-7f10-4bf5-d1db-6aea40ee5fe6"
      },
      "execution_count": 27,
      "outputs": [
        {
          "output_type": "execute_result",
          "data": {
            "text/plain": [
              "array([215,  12,  18,  24,  30,  36])"
            ]
          },
          "metadata": {},
          "execution_count": 27
        }
      ]
    },
    {
      "cell_type": "markdown",
      "source": [
        "##Создание матриц\n"
      ],
      "metadata": {
        "id": "3nJOTIxFyNxm"
      }
    },
    {
      "cell_type": "markdown",
      "source": [
        "Создать единичную матрицу (с единицами в главной диагонали)"
      ],
      "metadata": {
        "id": "VwSY2HjgyaTG"
      }
    },
    {
      "cell_type": "code",
      "source": [
        "np.eye(5,10)"
      ],
      "metadata": {
        "colab": {
          "base_uri": "https://localhost:8080/"
        },
        "id": "yfrjej3EyTTA",
        "outputId": "1a6a0e82-bb6f-48c6-d040-6ad8da26aa0e"
      },
      "execution_count": 28,
      "outputs": [
        {
          "output_type": "execute_result",
          "data": {
            "text/plain": [
              "array([[1., 0., 0., 0., 0., 0., 0., 0., 0., 0.],\n",
              "       [0., 1., 0., 0., 0., 0., 0., 0., 0., 0.],\n",
              "       [0., 0., 1., 0., 0., 0., 0., 0., 0., 0.],\n",
              "       [0., 0., 0., 1., 0., 0., 0., 0., 0., 0.],\n",
              "       [0., 0., 0., 0., 1., 0., 0., 0., 0., 0.]])"
            ]
          },
          "metadata": {},
          "execution_count": 28
        }
      ]
    },
    {
      "cell_type": "markdown",
      "source": [
        "Создать нулевую матрицу (заполненную нулями)"
      ],
      "metadata": {
        "id": "yuDDIEauyzUE"
      }
    },
    {
      "cell_type": "code",
      "source": [
        "np.zeros((3,5,2))"
      ],
      "metadata": {
        "colab": {
          "base_uri": "https://localhost:8080/"
        },
        "id": "NHvjePxKzGl-",
        "outputId": "5efa2128-6b2c-40ac-9731-724b59b8eb75"
      },
      "execution_count": 29,
      "outputs": [
        {
          "output_type": "execute_result",
          "data": {
            "text/plain": [
              "array([[[0., 0.],\n",
              "        [0., 0.],\n",
              "        [0., 0.],\n",
              "        [0., 0.],\n",
              "        [0., 0.]],\n",
              "\n",
              "       [[0., 0.],\n",
              "        [0., 0.],\n",
              "        [0., 0.],\n",
              "        [0., 0.],\n",
              "        [0., 0.]],\n",
              "\n",
              "       [[0., 0.],\n",
              "        [0., 0.],\n",
              "        [0., 0.],\n",
              "        [0., 0.],\n",
              "        [0., 0.]]])"
            ]
          },
          "metadata": {},
          "execution_count": 29
        }
      ]
    },
    {
      "cell_type": "code",
      "source": [
        "a = np.empty((2,3,5)) # тоже создает пустую матрицу, но с непредсказуемыми значениями\n"
      ],
      "metadata": {
        "id": "Z3xfvxwUzS70"
      },
      "execution_count": 30,
      "outputs": []
    },
    {
      "cell_type": "markdown",
      "source": [
        "Создает матрицу, заполненную конкретными значениями"
      ],
      "metadata": {
        "id": "DFFlGEMbzr1Q"
      }
    },
    {
      "cell_type": "code",
      "source": [
        "np.full((2,3,5), fill_value=15)"
      ],
      "metadata": {
        "colab": {
          "base_uri": "https://localhost:8080/"
        },
        "id": "eyTqcZxczynI",
        "outputId": "11f4fffc-c248-4f45-f111-67f8b3ba8283"
      },
      "execution_count": 31,
      "outputs": [
        {
          "output_type": "execute_result",
          "data": {
            "text/plain": [
              "array([[[15, 15, 15, 15, 15],\n",
              "        [15, 15, 15, 15, 15],\n",
              "        [15, 15, 15, 15, 15]],\n",
              "\n",
              "       [[15, 15, 15, 15, 15],\n",
              "        [15, 15, 15, 15, 15],\n",
              "        [15, 15, 15, 15, 15]]])"
            ]
          },
          "metadata": {},
          "execution_count": 31
        }
      ]
    },
    {
      "cell_type": "markdown",
      "source": [
        "Создает матрицу, заполненную единицами"
      ],
      "metadata": {
        "id": "UydZHXFf0GW1"
      }
    },
    {
      "cell_type": "code",
      "source": [
        "np.ones((2,3,5))"
      ],
      "metadata": {
        "colab": {
          "base_uri": "https://localhost:8080/"
        },
        "id": "Xt7RDYvn0G0W",
        "outputId": "22ab5f3f-9b66-41aa-d23c-1f85d684ddac"
      },
      "execution_count": 32,
      "outputs": [
        {
          "output_type": "execute_result",
          "data": {
            "text/plain": [
              "array([[[1., 1., 1., 1., 1.],\n",
              "        [1., 1., 1., 1., 1.],\n",
              "        [1., 1., 1., 1., 1.]],\n",
              "\n",
              "       [[1., 1., 1., 1., 1.],\n",
              "        [1., 1., 1., 1., 1.],\n",
              "        [1., 1., 1., 1., 1.]]])"
            ]
          },
          "metadata": {},
          "execution_count": 32
        }
      ]
    },
    {
      "cell_type": "markdown",
      "source": [
        "Создать матрицу на основе другой, но заполненную единицами"
      ],
      "metadata": {
        "id": "CRv0XIk11Pja"
      }
    },
    {
      "cell_type": "code",
      "source": [
        "np.ones_like(a)"
      ],
      "metadata": {
        "colab": {
          "base_uri": "https://localhost:8080/"
        },
        "id": "PNlurFaN1cBw",
        "outputId": "698664be-0b8f-43b1-8c11-7519fe015f2e"
      },
      "execution_count": 33,
      "outputs": [
        {
          "output_type": "execute_result",
          "data": {
            "text/plain": [
              "array([[[1., 1., 1., 1., 1.],\n",
              "        [1., 1., 1., 1., 1.],\n",
              "        [1., 1., 1., 1., 1.]],\n",
              "\n",
              "       [[1., 1., 1., 1., 1.],\n",
              "        [1., 1., 1., 1., 1.],\n",
              "        [1., 1., 1., 1., 1.]]])"
            ]
          },
          "metadata": {},
          "execution_count": 33
        }
      ]
    },
    {
      "cell_type": "markdown",
      "source": [
        "# Полезные функции"
      ],
      "metadata": {
        "id": "Y28v-MAW25DQ"
      }
    },
    {
      "cell_type": "markdown",
      "source": [
        "Создать диапазон с дробным шагом\n"
      ],
      "metadata": {
        "id": "l498-l384pkX"
      }
    },
    {
      "cell_type": "code",
      "source": [
        "np.arange(0,10, 0.1)"
      ],
      "metadata": {
        "colab": {
          "base_uri": "https://localhost:8080/"
        },
        "id": "zoRytGu44uAu",
        "outputId": "f33639f1-aab5-45d6-9e07-ad474eaa203e"
      },
      "execution_count": 34,
      "outputs": [
        {
          "output_type": "execute_result",
          "data": {
            "text/plain": [
              "array([0. , 0.1, 0.2, 0.3, 0.4, 0.5, 0.6, 0.7, 0.8, 0.9, 1. , 1.1, 1.2,\n",
              "       1.3, 1.4, 1.5, 1.6, 1.7, 1.8, 1.9, 2. , 2.1, 2.2, 2.3, 2.4, 2.5,\n",
              "       2.6, 2.7, 2.8, 2.9, 3. , 3.1, 3.2, 3.3, 3.4, 3.5, 3.6, 3.7, 3.8,\n",
              "       3.9, 4. , 4.1, 4.2, 4.3, 4.4, 4.5, 4.6, 4.7, 4.8, 4.9, 5. , 5.1,\n",
              "       5.2, 5.3, 5.4, 5.5, 5.6, 5.7, 5.8, 5.9, 6. , 6.1, 6.2, 6.3, 6.4,\n",
              "       6.5, 6.6, 6.7, 6.8, 6.9, 7. , 7.1, 7.2, 7.3, 7.4, 7.5, 7.6, 7.7,\n",
              "       7.8, 7.9, 8. , 8.1, 8.2, 8.3, 8.4, 8.5, 8.6, 8.7, 8.8, 8.9, 9. ,\n",
              "       9.1, 9.2, 9.3, 9.4, 9.5, 9.6, 9.7, 9.8, 9.9])"
            ]
          },
          "metadata": {},
          "execution_count": 34
        }
      ]
    },
    {
      "cell_type": "markdown",
      "source": [
        "Создать диапазон с подогнанным под нужное кол-во элементов шагом"
      ],
      "metadata": {
        "id": "oMmiqrRH46rX"
      }
    },
    {
      "cell_type": "code",
      "source": [
        "np.linspace(0, 10, 7)"
      ],
      "metadata": {
        "colab": {
          "base_uri": "https://localhost:8080/"
        },
        "id": "KZKo3u6B5F8k",
        "outputId": "e4f32c28-12eb-4083-a943-31713061a197"
      },
      "execution_count": 35,
      "outputs": [
        {
          "output_type": "execute_result",
          "data": {
            "text/plain": [
              "array([ 0.        ,  1.66666667,  3.33333333,  5.        ,  6.66666667,\n",
              "        8.33333333, 10.        ])"
            ]
          },
          "metadata": {},
          "execution_count": 35
        }
      ]
    },
    {
      "cell_type": "markdown",
      "source": [
        "##Срезы матриц\n"
      ],
      "metadata": {
        "id": "B2GFcjyG6nr1"
      }
    },
    {
      "cell_type": "markdown",
      "source": [
        "Правая граница не входит в диапазон\n"
      ],
      "metadata": {
        "id": "nUwGX1PH6ulo"
      }
    },
    {
      "cell_type": "code",
      "source": [
        "c.shape"
      ],
      "metadata": {
        "colab": {
          "base_uri": "https://localhost:8080/"
        },
        "id": "5s493ik06vnf",
        "outputId": "90fd4363-8bad-43eb-d6cd-3574a25d7810"
      },
      "execution_count": 36,
      "outputs": [
        {
          "output_type": "execute_result",
          "data": {
            "text/plain": [
              "(3, 2, 6)"
            ]
          },
          "metadata": {},
          "execution_count": 36
        }
      ]
    },
    {
      "cell_type": "code",
      "source": [
        "c[1:, :1, 2: ]"
      ],
      "metadata": {
        "colab": {
          "base_uri": "https://localhost:8080/"
        },
        "id": "1Auuf1Lx6zQq",
        "outputId": "846bb370-93c2-4cb5-affd-b3953703c47f"
      },
      "execution_count": 37,
      "outputs": [
        {
          "output_type": "execute_result",
          "data": {
            "text/plain": [
              "array([[[3, 4, 5, 6]],\n",
              "\n",
              "       [[3, 4, 5, 6]]], dtype=int32)"
            ]
          },
          "metadata": {},
          "execution_count": 37
        }
      ]
    },
    {
      "cell_type": "code",
      "source": [
        "a = c[0,1]\n",
        "a"
      ],
      "metadata": {
        "colab": {
          "base_uri": "https://localhost:8080/"
        },
        "id": "UiuHn9xO7YDn",
        "outputId": "af2d0aee-fd71-4844-8979-55f4008881b9"
      },
      "execution_count": 38,
      "outputs": [
        {
          "output_type": "execute_result",
          "data": {
            "text/plain": [
              "array([90,  2,  3,  4,  5,  6], dtype=int32)"
            ]
          },
          "metadata": {},
          "execution_count": 38
        }
      ]
    },
    {
      "cell_type": "markdown",
      "source": [
        "Массив в обратном порядке"
      ],
      "metadata": {
        "id": "mGE4Yvh68Atj"
      }
    },
    {
      "cell_type": "code",
      "source": [
        "a[::-1]"
      ],
      "metadata": {
        "colab": {
          "base_uri": "https://localhost:8080/"
        },
        "id": "LAwh6-MP7hOF",
        "outputId": "346a9edd-a626-4544-e2eb-6b7095d12426"
      },
      "execution_count": 39,
      "outputs": [
        {
          "output_type": "execute_result",
          "data": {
            "text/plain": [
              "array([ 6,  5,  4,  3,  2, 90], dtype=int32)"
            ]
          },
          "metadata": {},
          "execution_count": 39
        }
      ]
    },
    {
      "cell_type": "markdown",
      "source": [
        "Выборка конкретных значений из массива"
      ],
      "metadata": {
        "id": "RTyEYnuL8E-O"
      }
    },
    {
      "cell_type": "code",
      "source": [
        "a[1:4:2] #Каждый второй элемент"
      ],
      "metadata": {
        "colab": {
          "base_uri": "https://localhost:8080/"
        },
        "id": "Q4Lj_Lqx8Ptu",
        "outputId": "40c825ff-b592-42b3-d3b4-fe1545b26bbc"
      },
      "execution_count": 40,
      "outputs": [
        {
          "output_type": "execute_result",
          "data": {
            "text/plain": [
              "array([2, 4], dtype=int32)"
            ]
          },
          "metadata": {},
          "execution_count": 40
        }
      ]
    },
    {
      "cell_type": "markdown",
      "source": [
        "Заменить элементы"
      ],
      "metadata": {
        "id": "TVJhnsZS8kW0"
      }
    },
    {
      "cell_type": "code",
      "source": [
        "a[1:4:2] = 100\n",
        "a"
      ],
      "metadata": {
        "colab": {
          "base_uri": "https://localhost:8080/"
        },
        "id": "ctDMskdH8nVu",
        "outputId": "ca306ade-9bfe-4b5e-85ce-81b36bd724f2"
      },
      "execution_count": 41,
      "outputs": [
        {
          "output_type": "execute_result",
          "data": {
            "text/plain": [
              "array([ 90, 100,   3, 100,   5,   6], dtype=int32)"
            ]
          },
          "metadata": {},
          "execution_count": 41
        }
      ]
    },
    {
      "cell_type": "markdown",
      "source": [
        "Если создаем копию на основе массива, нужно использовать метод copy(). Тогда элементы в исходном массиве не будут изменяться"
      ],
      "metadata": {
        "id": "wpazWKze82YR"
      }
    },
    {
      "cell_type": "code",
      "source": [
        "b = a\n",
        "b[::3] = 1000\n",
        "b"
      ],
      "metadata": {
        "colab": {
          "base_uri": "https://localhost:8080/"
        },
        "id": "umV5TLso83ey",
        "outputId": "8563bebe-b61e-44c8-c130-be3f8e987995"
      },
      "execution_count": 42,
      "outputs": [
        {
          "output_type": "execute_result",
          "data": {
            "text/plain": [
              "array([1000,  100,    3, 1000,    5,    6], dtype=int32)"
            ]
          },
          "metadata": {},
          "execution_count": 42
        }
      ]
    },
    {
      "cell_type": "code",
      "source": [
        "c = a.copy()\n",
        "print(c, a)\n",
        "c[1] = 10000\n",
        "print(c, a)"
      ],
      "metadata": {
        "colab": {
          "base_uri": "https://localhost:8080/"
        },
        "id": "KvncP4y39Vy4",
        "outputId": "382ac743-85c1-4e1d-deac-bebf2ac71b63"
      },
      "execution_count": 43,
      "outputs": [
        {
          "output_type": "stream",
          "name": "stdout",
          "text": [
            "[1000  100    3 1000    5    6] [1000  100    3 1000    5    6]\n",
            "[ 1000 10000     3  1000     5     6] [1000  100    3 1000    5    6]\n"
          ]
        }
      ]
    },
    {
      "cell_type": "markdown",
      "source": [
        "# Numpy Урок 2\n"
      ],
      "metadata": {
        "id": "IDSEX4dvSWkU"
      }
    },
    {
      "cell_type": "markdown",
      "source": [
        "##Броадкастинг"
      ],
      "metadata": {
        "id": "YyC1aTlrSZI9"
      }
    },
    {
      "cell_type": "code",
      "source": [
        "x = np.array([1,2,3,])\n",
        "a = 5"
      ],
      "metadata": {
        "id": "Ad8rAx-ASuwB"
      },
      "execution_count": 66,
      "outputs": []
    },
    {
      "cell_type": "code",
      "source": [
        "x * a # (a преобразовывается в массив)"
      ],
      "metadata": {
        "colab": {
          "base_uri": "https://localhost:8080/"
        },
        "id": "hGR_3fwHS7BS",
        "outputId": "36e21cc8-078c-4e31-a365-e66b0c6aca48"
      },
      "execution_count": 67,
      "outputs": [
        {
          "output_type": "execute_result",
          "data": {
            "text/plain": [
              "array([ 5, 10, 15])"
            ]
          },
          "metadata": {},
          "execution_count": 67
        }
      ]
    },
    {
      "cell_type": "code",
      "source": [
        "x = np.ones((2,3,5,1))\n",
        "y = np.ones((2,1,5,8))\n",
        "\n",
        "c = x * y #берет большую размерность\n",
        "\n",
        "c.shape"
      ],
      "metadata": {
        "colab": {
          "base_uri": "https://localhost:8080/"
        },
        "id": "0X7bXQW7S8WK",
        "outputId": "fe05fdb4-fab2-4f37-c5ea-b3d49ff1ff76"
      },
      "execution_count": 68,
      "outputs": [
        {
          "output_type": "execute_result",
          "data": {
            "text/plain": [
              "(2, 3, 5, 8)"
            ]
          },
          "metadata": {},
          "execution_count": 68
        }
      ]
    },
    {
      "cell_type": "code",
      "source": [
        "x = np.ones((3,5,1))\n",
        "y = np.ones((2,1,5,8))\n",
        "\n",
        "z =x * y #Добавляет измерение, если матрицы разной размерности.\n",
        "          #Если они приводимы.\n",
        "z.shape"
      ],
      "metadata": {
        "colab": {
          "base_uri": "https://localhost:8080/"
        },
        "id": "Nrgn4RIPUHQb",
        "outputId": "b9a22294-5a32-4857-832a-0b5d2ab5b486"
      },
      "execution_count": 69,
      "outputs": [
        {
          "output_type": "execute_result",
          "data": {
            "text/plain": [
              "(2, 3, 5, 8)"
            ]
          },
          "metadata": {},
          "execution_count": 69
        }
      ]
    },
    {
      "cell_type": "code",
      "source": [
        "a = np.ones((3,5,4,1))\n",
        "a.shape, a.ndim"
      ],
      "metadata": {
        "colab": {
          "base_uri": "https://localhost:8080/"
        },
        "id": "5sRX8UXoUuWT",
        "outputId": "6f18b9f0-34b8-4431-cb36-4ab1f279c7ac"
      },
      "execution_count": 70,
      "outputs": [
        {
          "output_type": "execute_result",
          "data": {
            "text/plain": [
              "((3, 5, 4, 1), 4)"
            ]
          },
          "metadata": {},
          "execution_count": 70
        }
      ]
    },
    {
      "cell_type": "markdown",
      "source": [
        "Переделать исходный массив в ту форму, которую мы указываем.\n",
        "Не меняет кол-во данных!!!"
      ],
      "metadata": {
        "id": "Q3IurUARUr0l"
      }
    },
    {
      "cell_type": "code",
      "source": [
        "a.reshape((3,5,2,2))\n",
        "a.shape"
      ],
      "metadata": {
        "colab": {
          "base_uri": "https://localhost:8080/"
        },
        "id": "hwydgrodUaWv",
        "outputId": "7d988a09-5c8b-40e5-e71d-45254f037318"
      },
      "execution_count": 71,
      "outputs": [
        {
          "output_type": "execute_result",
          "data": {
            "text/plain": [
              "(3, 5, 4, 1)"
            ]
          },
          "metadata": {},
          "execution_count": 71
        }
      ]
    },
    {
      "cell_type": "markdown",
      "source": [
        "Переделать исходный массив в ту форму, которую мы указываем. Меняет кол-во данных"
      ],
      "metadata": {
        "id": "FTR_akb1VyAe"
      }
    },
    {
      "cell_type": "code",
      "source": [
        "np.resize(a, (3,5,4,2)) #не меняет исходный массив\n",
        "                        # недостающие данные заполняются копией данных из исходного массива\n",
        "\n",
        "a.shape"
      ],
      "metadata": {
        "colab": {
          "base_uri": "https://localhost:8080/"
        },
        "id": "U2kzNsKZVySm",
        "outputId": "a6b8d168-82fd-4460-d132-07e28d9b41e3"
      },
      "execution_count": 72,
      "outputs": [
        {
          "output_type": "execute_result",
          "data": {
            "text/plain": [
              "(3, 5, 4, 1)"
            ]
          },
          "metadata": {},
          "execution_count": 72
        }
      ]
    },
    {
      "cell_type": "code",
      "source": [
        "b = np.ones((3,5,4,1)) # Меняет исходный массив.\n",
        "                      # Недостающие данные заполняются 0\n",
        "b.resize((3,5,4,2))\n",
        "b.shape"
      ],
      "metadata": {
        "colab": {
          "base_uri": "https://localhost:8080/"
        },
        "id": "KS04rZRQW5TS",
        "outputId": "a1fd68df-fc6e-4fc5-bc52-6418487751c9"
      },
      "execution_count": 73,
      "outputs": [
        {
          "output_type": "execute_result",
          "data": {
            "text/plain": [
              "(3, 5, 4, 2)"
            ]
          },
          "metadata": {},
          "execution_count": 73
        }
      ]
    },
    {
      "cell_type": "markdown",
      "source": [
        "Расширить массив измерениями с единицами"
      ],
      "metadata": {
        "id": "AR9Qv_INYn84"
      }
    },
    {
      "cell_type": "code",
      "source": [
        "a = np.ones((2, 255, 255))\n",
        "b = np.expand_dims(a, axis = (0,2,4)) #в скобках указать оси\n",
        "b.shape"
      ],
      "metadata": {
        "colab": {
          "base_uri": "https://localhost:8080/"
        },
        "id": "X37yw04wYnCX",
        "outputId": "7a2397d1-0e38-4563-87a6-08a06cb322aa"
      },
      "execution_count": 74,
      "outputs": [
        {
          "output_type": "execute_result",
          "data": {
            "text/plain": [
              "(1, 2, 1, 255, 1, 255)"
            ]
          },
          "metadata": {},
          "execution_count": 74
        }
      ]
    },
    {
      "cell_type": "markdown",
      "source": [
        "Удалить измерения из массива"
      ],
      "metadata": {
        "id": "dytaB_f5kltD"
      }
    },
    {
      "cell_type": "code",
      "source": [
        "b.squeeze(axis =(0,2)).shape # по умолчанию удаляет оси с единицами"
      ],
      "metadata": {
        "colab": {
          "base_uri": "https://localhost:8080/"
        },
        "id": "piY7uiXIkl-Q",
        "outputId": "bbd2d745-03a2-493f-b262-75937bbffd0d"
      },
      "execution_count": 75,
      "outputs": [
        {
          "output_type": "execute_result",
          "data": {
            "text/plain": [
              "(2, 255, 1, 255)"
            ]
          },
          "metadata": {},
          "execution_count": 75
        }
      ]
    },
    {
      "cell_type": "markdown",
      "source": [
        "Добавить значения по краям массива"
      ],
      "metadata": {
        "id": "5FPqpHNrlQCf"
      }
    },
    {
      "cell_type": "code",
      "source": [
        "np.pad(a, pad_width=(2,3), constant_values=1).shape"
      ],
      "metadata": {
        "colab": {
          "base_uri": "https://localhost:8080/"
        },
        "id": "w_eZHRQslQL3",
        "outputId": "0a18618d-5263-4cd9-dc4b-6134e8dd8543"
      },
      "execution_count": 76,
      "outputs": [
        {
          "output_type": "execute_result",
          "data": {
            "text/plain": [
              "(7, 260, 260)"
            ]
          },
          "metadata": {},
          "execution_count": 76
        }
      ]
    },
    {
      "cell_type": "markdown",
      "source": [
        "###Сделать массив плоским"
      ],
      "metadata": {
        "id": "2k0p2P3soI8r"
      }
    },
    {
      "cell_type": "markdown",
      "source": [
        "Возвращает новый массив с плоской матрицей"
      ],
      "metadata": {
        "id": "tBV2B6oVYIiV"
      }
    },
    {
      "cell_type": "code",
      "source": [
        "b = np.zeros((2, 3, 5, 1))\n",
        "c = np.ravel(b)\n",
        "c.shape, b.shape"
      ],
      "metadata": {
        "colab": {
          "base_uri": "https://localhost:8080/"
        },
        "id": "UuLEb_qCoJFg",
        "outputId": "a4a38a77-1f5a-419b-e058-bb515cc88f66"
      },
      "execution_count": 77,
      "outputs": [
        {
          "output_type": "execute_result",
          "data": {
            "text/plain": [
              "((30,), (2, 3, 5, 1))"
            ]
          },
          "metadata": {},
          "execution_count": 77
        }
      ]
    },
    {
      "cell_type": "code",
      "source": [
        "b.flatten() # only as method. return a copy"
      ],
      "metadata": {
        "colab": {
          "base_uri": "https://localhost:8080/"
        },
        "id": "Co7sxmV-Y3rV",
        "outputId": "6a0ca7db-af2e-470e-f6ab-6952e20474d1"
      },
      "execution_count": 78,
      "outputs": [
        {
          "output_type": "execute_result",
          "data": {
            "text/plain": [
              "array([0., 0., 0., 0., 0., 0., 0., 0., 0., 0., 0., 0., 0., 0., 0., 0., 0.,\n",
              "       0., 0., 0., 0., 0., 0., 0., 0., 0., 0., 0., 0., 0.])"
            ]
          },
          "metadata": {},
          "execution_count": 78
        }
      ]
    },
    {
      "cell_type": "code",
      "source": [
        "b.reshape(-1)"
      ],
      "metadata": {
        "colab": {
          "base_uri": "https://localhost:8080/"
        },
        "id": "sHdTXlCnZdiZ",
        "outputId": "52729132-5676-49b1-84f7-8063c573dd80"
      },
      "execution_count": 79,
      "outputs": [
        {
          "output_type": "execute_result",
          "data": {
            "text/plain": [
              "array([0., 0., 0., 0., 0., 0., 0., 0., 0., 0., 0., 0., 0., 0., 0., 0., 0.,\n",
              "       0., 0., 0., 0., 0., 0., 0., 0., 0., 0., 0., 0., 0.])"
            ]
          },
          "metadata": {},
          "execution_count": 79
        }
      ]
    },
    {
      "cell_type": "markdown",
      "source": [
        "Переделать массив в список python"
      ],
      "metadata": {
        "id": "4KrVCqd0a2pa"
      }
    },
    {
      "cell_type": "code",
      "source": [
        "b.tolist()"
      ],
      "metadata": {
        "colab": {
          "base_uri": "https://localhost:8080/"
        },
        "id": "fC3mVD9ha1ud",
        "outputId": "3d1982a5-1e06-41dd-cfde-ff08173906a3"
      },
      "execution_count": 80,
      "outputs": [
        {
          "output_type": "execute_result",
          "data": {
            "text/plain": [
              "[[[[0.0], [0.0], [0.0], [0.0], [0.0]],\n",
              "  [[0.0], [0.0], [0.0], [0.0], [0.0]],\n",
              "  [[0.0], [0.0], [0.0], [0.0], [0.0]]],\n",
              " [[[0.0], [0.0], [0.0], [0.0], [0.0]],\n",
              "  [[0.0], [0.0], [0.0], [0.0], [0.0]],\n",
              "  [[0.0], [0.0], [0.0], [0.0], [0.0]]]]"
            ]
          },
          "metadata": {},
          "execution_count": 80
        }
      ]
    },
    {
      "cell_type": "markdown",
      "source": [
        "###Преобразование массивов\n",
        "\n",
        "1.   Вставка\n",
        "2.   Разбивка\n",
        "\n"
      ],
      "metadata": {
        "id": "DQFUtf8hbSUw"
      }
    },
    {
      "cell_type": "markdown",
      "source": [
        "Разбить массив на отдельные кусочки"
      ],
      "metadata": {
        "id": "ADfUbkA5bV3h"
      }
    },
    {
      "cell_type": "code",
      "source": [
        "a = np.arange(9)\n",
        "\n",
        "np.split(a, [3,5,15]) # можно указать одно число или индексы или секции"
      ],
      "metadata": {
        "colab": {
          "base_uri": "https://localhost:8080/"
        },
        "id": "O14tzK43bcLk",
        "outputId": "2538198d-bff5-420a-dc0c-87cf65fce960"
      },
      "execution_count": 81,
      "outputs": [
        {
          "output_type": "execute_result",
          "data": {
            "text/plain": [
              "[array([0, 1, 2]), array([3, 4]), array([5, 6, 7, 8]), array([], dtype=int64)]"
            ]
          },
          "metadata": {},
          "execution_count": 81
        }
      ]
    },
    {
      "cell_type": "code",
      "source": [
        "a = np.array([[1,2,3],[1,2,3]])\n",
        "a.shape"
      ],
      "metadata": {
        "colab": {
          "base_uri": "https://localhost:8080/"
        },
        "id": "hCOOBW4ad8Y-",
        "outputId": "73a18b10-e04c-4fed-af01-0999b6a0cd4d"
      },
      "execution_count": 82,
      "outputs": [
        {
          "output_type": "execute_result",
          "data": {
            "text/plain": [
              "(2, 3)"
            ]
          },
          "metadata": {},
          "execution_count": 82
        }
      ]
    },
    {
      "cell_type": "code",
      "source": [
        "np.split(a, 3, axis=1)"
      ],
      "metadata": {
        "colab": {
          "base_uri": "https://localhost:8080/"
        },
        "id": "yaIsPSb0eVRJ",
        "outputId": "49b984e2-b212-478b-f16e-b8824c3392b3"
      },
      "execution_count": 83,
      "outputs": [
        {
          "output_type": "execute_result",
          "data": {
            "text/plain": [
              "[array([[1],\n",
              "        [1]]),\n",
              " array([[2],\n",
              "        [2]]),\n",
              " array([[3],\n",
              "        [3]])]"
            ]
          },
          "metadata": {},
          "execution_count": 83
        }
      ]
    },
    {
      "cell_type": "markdown",
      "source": [
        "Вставка в массив"
      ],
      "metadata": {
        "id": "-t-qpFU1emTL"
      }
    },
    {
      "cell_type": "code",
      "source": [
        "np.insert(a, (1,2), (1000,3000), axis=1)\n",
        "#куда, на какое место, что вставить, ось"
      ],
      "metadata": {
        "colab": {
          "base_uri": "https://localhost:8080/"
        },
        "id": "cDaAdNmJerdo",
        "outputId": "50c87545-a324-4b56-9c37-b26e16de89f4"
      },
      "execution_count": 84,
      "outputs": [
        {
          "output_type": "execute_result",
          "data": {
            "text/plain": [
              "array([[   1, 1000,    2, 3000,    3],\n",
              "       [   1, 1000,    2, 3000,    3]])"
            ]
          },
          "metadata": {},
          "execution_count": 84
        }
      ]
    },
    {
      "cell_type": "markdown",
      "source": [
        "Добавление в конец"
      ],
      "metadata": {
        "id": "l7DAYgyHgJ-5"
      }
    },
    {
      "cell_type": "code",
      "source": [
        "np.append(a, values=[[100, 200, 300], [100, 200, 300]], axis =1)\n",
        "# обязательно соблюдать внешнюю размерность(та, которая не в axis)"
      ],
      "metadata": {
        "colab": {
          "base_uri": "https://localhost:8080/"
        },
        "id": "ZnobQxEUgMoY",
        "outputId": "b1c7efaa-4131-4652-b9b7-8aa065db7499"
      },
      "execution_count": 85,
      "outputs": [
        {
          "output_type": "execute_result",
          "data": {
            "text/plain": [
              "array([[  1,   2,   3, 100, 200, 300],\n",
              "       [  1,   2,   3, 100, 200, 300]])"
            ]
          },
          "metadata": {},
          "execution_count": 85
        }
      ]
    },
    {
      "cell_type": "markdown",
      "source": [
        "  ### Поиск уникальных значений в массиве"
      ],
      "metadata": {
        "id": "rNGC2jdchYca"
      }
    },
    {
      "cell_type": "markdown",
      "source": [],
      "metadata": {
        "id": "1jYgFu5xhfYs"
      }
    },
    {
      "cell_type": "code",
      "source": [
        "a = np.array([[1,2,3],[4,5,6]])\n",
        "a =np.append(a, [[1,2,3]], axis = 0)\n"
      ],
      "metadata": {
        "id": "M0xDahUmhis8"
      },
      "execution_count": 88,
      "outputs": []
    },
    {
      "cell_type": "code",
      "source": [
        "a = np.append(a, [[1],[1],[1]], axis = 1)\n"
      ],
      "metadata": {
        "id": "GqV7iiS8iBIy"
      },
      "execution_count": 89,
      "outputs": []
    },
    {
      "cell_type": "markdown",
      "source": [
        "Сделает массив плоским и оставит уникальные элементы"
      ],
      "metadata": {
        "id": "LyBTpGeaP_4r"
      }
    },
    {
      "cell_type": "code",
      "source": [
        "np.unique(a)"
      ],
      "metadata": {
        "colab": {
          "base_uri": "https://localhost:8080/"
        },
        "id": "C3NROE54QACE",
        "outputId": "3dc21d1f-ef2c-49c3-c5f9-7d6164235a7c"
      },
      "execution_count": 90,
      "outputs": [
        {
          "output_type": "execute_result",
          "data": {
            "text/plain": [
              "array([1, 2, 3, 4, 5, 6])"
            ]
          },
          "metadata": {},
          "execution_count": 90
        }
      ]
    },
    {
      "cell_type": "markdown",
      "source": [
        "Выводит уникальные массивы"
      ],
      "metadata": {
        "id": "OL9mo7sjQNz1"
      }
    },
    {
      "cell_type": "code",
      "source": [
        "np.unique(a, axis=0)"
      ],
      "metadata": {
        "colab": {
          "base_uri": "https://localhost:8080/"
        },
        "id": "44OmHdkgQN8b",
        "outputId": "69420ffd-6ace-4518-c575-96c4443b36c3"
      },
      "execution_count": 91,
      "outputs": [
        {
          "output_type": "execute_result",
          "data": {
            "text/plain": [
              "array([[1, 2, 3, 1],\n",
              "       [4, 5, 6, 1]])"
            ]
          },
          "metadata": {},
          "execution_count": 91
        }
      ]
    },
    {
      "cell_type": "markdown",
      "source": [
        "возвращает индексы первого вхождения уникальных значений"
      ],
      "metadata": {
        "id": "A8iRc0d0Qjku"
      }
    },
    {
      "cell_type": "code",
      "source": [
        "els, inxs = np.unique(a, axis=0, return_index=True)\n",
        "inxs"
      ],
      "metadata": {
        "colab": {
          "base_uri": "https://localhost:8080/"
        },
        "id": "KFsB7ayvQj1I",
        "outputId": "e5b6a75d-7ef0-4de4-aed8-099e18339cc2"
      },
      "execution_count": 95,
      "outputs": [
        {
          "output_type": "execute_result",
          "data": {
            "text/plain": [
              "array([0, 1])"
            ]
          },
          "metadata": {},
          "execution_count": 95
        }
      ]
    },
    {
      "cell_type": "markdown",
      "source": [
        "вывести все вхождения уникальных индексов в массив"
      ],
      "metadata": {
        "id": "tLGpLrNDRLS7"
      }
    },
    {
      "cell_type": "code",
      "source": [
        "els, inxs = np.unique(a, axis=0, return_inverse=True)\n",
        "inxs"
      ],
      "metadata": {
        "colab": {
          "base_uri": "https://localhost:8080/"
        },
        "id": "s6Ek5SaZRNIj",
        "outputId": "28fc2c1c-5815-4e6c-d95c-8f44a4518b50"
      },
      "execution_count": 97,
      "outputs": [
        {
          "output_type": "execute_result",
          "data": {
            "text/plain": [
              "array([0, 1, 0])"
            ]
          },
          "metadata": {},
          "execution_count": 97
        }
      ]
    },
    {
      "cell_type": "markdown",
      "source": [
        "Это позволит сконструировать исходный массив"
      ],
      "metadata": {
        "id": "JcRe7zRgRzH6"
      }
    },
    {
      "cell_type": "code",
      "source": [
        "els[inxs]"
      ],
      "metadata": {
        "colab": {
          "base_uri": "https://localhost:8080/"
        },
        "id": "zvoI9wmmRzX_",
        "outputId": "623c897f-657c-4b39-a69e-aa542902b603"
      },
      "execution_count": 98,
      "outputs": [
        {
          "output_type": "execute_result",
          "data": {
            "text/plain": [
              "array([[1, 2, 3, 1],\n",
              "       [4, 5, 6, 1],\n",
              "       [1, 2, 3, 1]])"
            ]
          },
          "metadata": {},
          "execution_count": 98
        }
      ]
    },
    {
      "cell_type": "markdown",
      "source": [
        "Сколько каждый элемент массива повторился"
      ],
      "metadata": {
        "id": "yvJvKn5aSBXe"
      }
    },
    {
      "cell_type": "code",
      "source": [
        "els, cnt = np.unique(a, axis=0, return_counts=True)\n",
        "cnt"
      ],
      "metadata": {
        "colab": {
          "base_uri": "https://localhost:8080/"
        },
        "id": "7DsUThLzSBhX",
        "outputId": "07e58891-1e57-4261-d196-ed4ebd14bc7c"
      },
      "execution_count": 100,
      "outputs": [
        {
          "output_type": "execute_result",
          "data": {
            "text/plain": [
              "array([2, 1])"
            ]
          },
          "metadata": {},
          "execution_count": 100
        }
      ]
    },
    {
      "cell_type": "markdown",
      "source": [
        "###Дублировать массив(значения)"
      ],
      "metadata": {
        "id": "PHKlGw02TBPy"
      }
    },
    {
      "cell_type": "markdown",
      "source": [
        "Повторить каждую строку массива, указанное кол-во раз"
      ],
      "metadata": {
        "id": "Dmyi9IYRSi_U"
      }
    },
    {
      "cell_type": "code",
      "source": [
        "a"
      ],
      "metadata": {
        "colab": {
          "base_uri": "https://localhost:8080/"
        },
        "id": "Akw2BwPpS2RB",
        "outputId": "686f5c95-e2db-40e0-a3b4-413b5beda0d8"
      },
      "execution_count": 103,
      "outputs": [
        {
          "output_type": "execute_result",
          "data": {
            "text/plain": [
              "array([[1, 2, 3, 1],\n",
              "       [4, 5, 6, 1],\n",
              "       [1, 2, 3, 1]])"
            ]
          },
          "metadata": {},
          "execution_count": 103
        }
      ]
    },
    {
      "cell_type": "code",
      "source": [
        "np.tile(a, 2)"
      ],
      "metadata": {
        "colab": {
          "base_uri": "https://localhost:8080/"
        },
        "id": "f3bzTMpNSjIq",
        "outputId": "85d51004-d3f5-4daa-b3f9-1dba7022888e"
      },
      "execution_count": 102,
      "outputs": [
        {
          "output_type": "execute_result",
          "data": {
            "text/plain": [
              "array([[1, 2, 3, 1, 1, 2, 3, 1],\n",
              "       [4, 5, 6, 1, 4, 5, 6, 1],\n",
              "       [1, 2, 3, 1, 1, 2, 3, 1]])"
            ]
          },
          "metadata": {},
          "execution_count": 102
        }
      ]
    },
    {
      "cell_type": "markdown",
      "source": [
        "Повторение строк, но в другом измерении **подряд**"
      ],
      "metadata": {
        "id": "zftv3JlTTMK8"
      }
    },
    {
      "cell_type": "code",
      "source": [
        "np.tile(a, (2,1))"
      ],
      "metadata": {
        "colab": {
          "base_uri": "https://localhost:8080/"
        },
        "id": "XJHhsmm8TMbo",
        "outputId": "53ddfb61-60d2-4c80-fed2-60829e3f6c10"
      },
      "execution_count": 104,
      "outputs": [
        {
          "output_type": "execute_result",
          "data": {
            "text/plain": [
              "array([[1, 2, 3, 1],\n",
              "       [4, 5, 6, 1],\n",
              "       [1, 2, 3, 1],\n",
              "       [1, 2, 3, 1],\n",
              "       [4, 5, 6, 1],\n",
              "       [1, 2, 3, 1]])"
            ]
          },
          "metadata": {},
          "execution_count": 104
        }
      ]
    },
    {
      "cell_type": "markdown",
      "source": [
        "Плоский массив, в котором значения продублированы указанное кол-во раз"
      ],
      "metadata": {
        "id": "L2d1YfELToui"
      }
    },
    {
      "cell_type": "code",
      "source": [
        "np.repeat(a, 2)"
      ],
      "metadata": {
        "colab": {
          "base_uri": "https://localhost:8080/"
        },
        "id": "J_pYFgcbTo2-",
        "outputId": "77c1d565-1565-4953-ceac-6b151fe83c08"
      },
      "execution_count": 105,
      "outputs": [
        {
          "output_type": "execute_result",
          "data": {
            "text/plain": [
              "array([1, 1, 2, 2, 3, 3, 1, 1, 4, 4, 5, 5, 6, 6, 1, 1, 1, 1, 2, 2, 3, 3,\n",
              "       1, 1])"
            ]
          },
          "metadata": {},
          "execution_count": 105
        }
      ]
    },
    {
      "cell_type": "markdown",
      "source": [
        "если указываем ось, просто повторяет ее ее **последовательно**"
      ],
      "metadata": {
        "id": "boMG-GlBT8SC"
      }
    },
    {
      "cell_type": "code",
      "source": [
        "np.repeat(a, 2, axis=0)"
      ],
      "metadata": {
        "colab": {
          "base_uri": "https://localhost:8080/"
        },
        "id": "3NYFOIh7T8iN",
        "outputId": "3d498f9a-5a15-46fc-ff90-1ead5af22cd1"
      },
      "execution_count": 106,
      "outputs": [
        {
          "output_type": "execute_result",
          "data": {
            "text/plain": [
              "array([[1, 2, 3, 1],\n",
              "       [1, 2, 3, 1],\n",
              "       [4, 5, 6, 1],\n",
              "       [4, 5, 6, 1],\n",
              "       [1, 2, 3, 1],\n",
              "       [1, 2, 3, 1]])"
            ]
          },
          "metadata": {},
          "execution_count": 106
        }
      ]
    },
    {
      "cell_type": "markdown",
      "source": [
        "###Конкантенация и обьединение массивов"
      ],
      "metadata": {
        "id": "ODuB0kpqUl_t"
      }
    },
    {
      "cell_type": "markdown",
      "source": [
        "Обьединить два массива, по совпадающей размерности."
      ],
      "metadata": {
        "id": "AnROkdbDUs30"
      }
    },
    {
      "cell_type": "code",
      "source": [
        "a"
      ],
      "metadata": {
        "colab": {
          "base_uri": "https://localhost:8080/"
        },
        "id": "nOTI36PyVeKi",
        "outputId": "ae8d537c-c97b-4de4-9ec6-03f85ce2a590"
      },
      "execution_count": 113,
      "outputs": [
        {
          "output_type": "execute_result",
          "data": {
            "text/plain": [
              "array([[1, 2, 3, 1],\n",
              "       [4, 5, 6, 1],\n",
              "       [1, 2, 3, 1]])"
            ]
          },
          "metadata": {},
          "execution_count": 113
        }
      ]
    },
    {
      "cell_type": "code",
      "source": [
        "\n",
        "b = np.repeat(a, 3, axis=1)\n",
        "b"
      ],
      "metadata": {
        "colab": {
          "base_uri": "https://localhost:8080/"
        },
        "id": "JMfXNz2XU0MB",
        "outputId": "46dfee63-e448-4d42-b959-916f96e244a4"
      },
      "execution_count": 111,
      "outputs": [
        {
          "output_type": "execute_result",
          "data": {
            "text/plain": [
              "array([[1, 1, 1, 2, 2, 2, 3, 3, 3, 1, 1, 1],\n",
              "       [4, 4, 4, 5, 5, 5, 6, 6, 6, 1, 1, 1],\n",
              "       [1, 1, 1, 2, 2, 2, 3, 3, 3, 1, 1, 1]])"
            ]
          },
          "metadata": {},
          "execution_count": 111
        }
      ]
    },
    {
      "cell_type": "code",
      "source": [
        "np.concatenate((a,b), axis =1)"
      ],
      "metadata": {
        "colab": {
          "base_uri": "https://localhost:8080/"
        },
        "id": "-cblswe8UmNf",
        "outputId": "a69b2453-6644-4864-da13-845ef1075d96"
      },
      "execution_count": 112,
      "outputs": [
        {
          "output_type": "execute_result",
          "data": {
            "text/plain": [
              "array([[1, 2, 3, 1, 1, 1, 1, 2, 2, 2, 3, 3, 3, 1, 1, 1],\n",
              "       [4, 5, 6, 1, 4, 4, 4, 5, 5, 5, 6, 6, 6, 1, 1, 1],\n",
              "       [1, 2, 3, 1, 1, 1, 1, 2, 2, 2, 3, 3, 3, 1, 1, 1]])"
            ]
          },
          "metadata": {},
          "execution_count": 112
        }
      ]
    },
    {
      "cell_type": "markdown",
      "source": [
        "Если размерности совпадают, можно не указывать ось"
      ],
      "metadata": {
        "id": "3IAHJT3fVmaW"
      }
    },
    {
      "cell_type": "code",
      "source": [
        "c = a.copy()\n",
        "np.concatenate((a,c*2)) #можно умножить значения или что-то другое"
      ],
      "metadata": {
        "colab": {
          "base_uri": "https://localhost:8080/"
        },
        "id": "HUU4QaNkVmh2",
        "outputId": "8fd217aa-4934-40a3-9360-81d0165a6d3f"
      },
      "execution_count": 116,
      "outputs": [
        {
          "output_type": "execute_result",
          "data": {
            "text/plain": [
              "array([[ 1,  2,  3,  1],\n",
              "       [ 4,  5,  6,  1],\n",
              "       [ 1,  2,  3,  1],\n",
              "       [ 2,  4,  6,  2],\n",
              "       [ 8, 10, 12,  2],\n",
              "       [ 2,  4,  6,  2]])"
            ]
          },
          "metadata": {},
          "execution_count": 116
        }
      ]
    },
    {
      "cell_type": "markdown",
      "source": [
        "Горизонтальное соединение по столбцам (ставим одно на другое) или concantenate с axis = 2"
      ],
      "metadata": {
        "id": "mkTVn3GZWWs3"
      }
    },
    {
      "cell_type": "code",
      "source": [
        "np.hstack((a,b))"
      ],
      "metadata": {
        "colab": {
          "base_uri": "https://localhost:8080/"
        },
        "id": "l9t54vx6WW3T",
        "outputId": "48411dab-776b-41f0-ff00-7c373b02d04f"
      },
      "execution_count": 117,
      "outputs": [
        {
          "output_type": "execute_result",
          "data": {
            "text/plain": [
              "array([[1, 2, 3, 1, 1, 1, 1, 2, 2, 2, 3, 3, 3, 1, 1, 1],\n",
              "       [4, 5, 6, 1, 4, 4, 4, 5, 5, 5, 6, 6, 6, 1, 1, 1],\n",
              "       [1, 2, 3, 1, 1, 1, 1, 2, 2, 2, 3, 3, 3, 1, 1, 1]])"
            ]
          },
          "metadata": {},
          "execution_count": 117
        }
      ]
    },
    {
      "cell_type": "markdown",
      "source": [
        "Конкантенация по строкам или concantenate с axis = 0"
      ],
      "metadata": {
        "id": "IEpfaXt-XZfH"
      }
    },
    {
      "cell_type": "code",
      "source": [
        "np.vstack((a,b))"
      ],
      "metadata": {
        "colab": {
          "base_uri": "https://localhost:8080/",
          "height": 256
        },
        "id": "H4m_F4iLXcpF",
        "outputId": "19cf8643-2bbf-4f0d-b6b1-53d2025f2646"
      },
      "execution_count": 118,
      "outputs": [
        {
          "output_type": "error",
          "ename": "ValueError",
          "evalue": "ignored",
          "traceback": [
            "\u001b[0;31m---------------------------------------------------------------------------\u001b[0m",
            "\u001b[0;31mValueError\u001b[0m                                Traceback (most recent call last)",
            "\u001b[0;32m<ipython-input-118-cd1ecc781bea>\u001b[0m in \u001b[0;36m<cell line: 1>\u001b[0;34m()\u001b[0m\n\u001b[0;32m----> 1\u001b[0;31m \u001b[0mnp\u001b[0m\u001b[0;34m.\u001b[0m\u001b[0mvstack\u001b[0m\u001b[0;34m(\u001b[0m\u001b[0;34m(\u001b[0m\u001b[0ma\u001b[0m\u001b[0;34m,\u001b[0m\u001b[0mb\u001b[0m\u001b[0;34m)\u001b[0m\u001b[0;34m)\u001b[0m\u001b[0;34m\u001b[0m\u001b[0;34m\u001b[0m\u001b[0m\n\u001b[0m",
            "\u001b[0;32m/usr/local/lib/python3.10/dist-packages/numpy/core/overrides.py\u001b[0m in \u001b[0;36mvstack\u001b[0;34m(*args, **kwargs)\u001b[0m\n",
            "\u001b[0;32m/usr/local/lib/python3.10/dist-packages/numpy/core/shape_base.py\u001b[0m in \u001b[0;36mvstack\u001b[0;34m(tup)\u001b[0m\n\u001b[1;32m    280\u001b[0m     \u001b[0;32mif\u001b[0m \u001b[0;32mnot\u001b[0m \u001b[0misinstance\u001b[0m\u001b[0;34m(\u001b[0m\u001b[0marrs\u001b[0m\u001b[0;34m,\u001b[0m \u001b[0mlist\u001b[0m\u001b[0;34m)\u001b[0m\u001b[0;34m:\u001b[0m\u001b[0;34m\u001b[0m\u001b[0;34m\u001b[0m\u001b[0m\n\u001b[1;32m    281\u001b[0m         \u001b[0marrs\u001b[0m \u001b[0;34m=\u001b[0m \u001b[0;34m[\u001b[0m\u001b[0marrs\u001b[0m\u001b[0;34m]\u001b[0m\u001b[0;34m\u001b[0m\u001b[0;34m\u001b[0m\u001b[0m\n\u001b[0;32m--> 282\u001b[0;31m     \u001b[0;32mreturn\u001b[0m \u001b[0m_nx\u001b[0m\u001b[0;34m.\u001b[0m\u001b[0mconcatenate\u001b[0m\u001b[0;34m(\u001b[0m\u001b[0marrs\u001b[0m\u001b[0;34m,\u001b[0m \u001b[0;36m0\u001b[0m\u001b[0;34m)\u001b[0m\u001b[0;34m\u001b[0m\u001b[0;34m\u001b[0m\u001b[0m\n\u001b[0m\u001b[1;32m    283\u001b[0m \u001b[0;34m\u001b[0m\u001b[0m\n\u001b[1;32m    284\u001b[0m \u001b[0;34m\u001b[0m\u001b[0m\n",
            "\u001b[0;32m/usr/local/lib/python3.10/dist-packages/numpy/core/overrides.py\u001b[0m in \u001b[0;36mconcatenate\u001b[0;34m(*args, **kwargs)\u001b[0m\n",
            "\u001b[0;31mValueError\u001b[0m: all the input array dimensions for the concatenation axis must match exactly, but along dimension 1, the array at index 0 has size 4 and the array at index 1 has size 12"
          ]
        }
      ]
    },
    {
      "cell_type": "markdown",
      "source": [
        "#Полезные функции"
      ],
      "metadata": {
        "id": "6SJEpPuUX7wI"
      }
    },
    {
      "cell_type": "markdown",
      "source": [
        "Произведение всех элементов по заданному правилу"
      ],
      "metadata": {
        "id": "XbJkq2gJYA7j"
      }
    },
    {
      "cell_type": "markdown",
      "source": [
        "Произведение всех элементов массива"
      ],
      "metadata": {
        "id": "3mAOE12tYNeb"
      }
    },
    {
      "cell_type": "code",
      "source": [
        "a.prod()"
      ],
      "metadata": {
        "colab": {
          "base_uri": "https://localhost:8080/"
        },
        "id": "VQ5QDM8rX8DQ",
        "outputId": "b0817747-8146-4ecc-fe64-005346dda2bd"
      },
      "execution_count": 120,
      "outputs": [
        {
          "output_type": "execute_result",
          "data": {
            "text/plain": [
              "4320"
            ]
          },
          "metadata": {},
          "execution_count": 120
        }
      ]
    },
    {
      "cell_type": "markdown",
      "source": [
        "Осторожно!!! Если массив пустой, получаем 1"
      ],
      "metadata": {
        "id": "3x1YxyAGYYa9"
      }
    },
    {
      "cell_type": "code",
      "source": [
        "np.array([]).prod()"
      ],
      "metadata": {
        "colab": {
          "base_uri": "https://localhost:8080/"
        },
        "id": "Oi04Ol_jYYkh",
        "outputId": "f4467836-8c6d-4226-ba37-78ccc95c9d6c"
      },
      "execution_count": 121,
      "outputs": [
        {
          "output_type": "execute_result",
          "data": {
            "text/plain": [
              "1.0"
            ]
          },
          "metadata": {},
          "execution_count": 121
        }
      ]
    },
    {
      "cell_type": "markdown",
      "source": [
        "Умножение по столбикам"
      ],
      "metadata": {
        "id": "5AGl2SQnYp6O"
      }
    },
    {
      "cell_type": "code",
      "source": [
        "a.prod(axis=0)"
      ],
      "metadata": {
        "colab": {
          "base_uri": "https://localhost:8080/"
        },
        "id": "nMPSeDfxYqCL",
        "outputId": "be507adc-953f-4d98-d5a6-891e9c69ab6c"
      },
      "execution_count": 125,
      "outputs": [
        {
          "output_type": "execute_result",
          "data": {
            "text/plain": [
              "array([ 4, 20, 54,  1])"
            ]
          },
          "metadata": {},
          "execution_count": 125
        }
      ]
    },
    {
      "cell_type": "markdown",
      "source": [
        "Умножение по строкам"
      ],
      "metadata": {
        "id": "TZ-OEdv3ZAmi"
      }
    },
    {
      "cell_type": "code",
      "source": [
        "a.prod(axis=1)"
      ],
      "metadata": {
        "colab": {
          "base_uri": "https://localhost:8080/"
        },
        "id": "6BMqCwpZZAyd",
        "outputId": "2caee596-9172-4a16-a6be-db10d2ba0c79"
      },
      "execution_count": 124,
      "outputs": [
        {
          "output_type": "execute_result",
          "data": {
            "text/plain": [
              "array([  6, 120,   6])"
            ]
          },
          "metadata": {},
          "execution_count": 124
        }
      ]
    },
    {
      "cell_type": "markdown",
      "source": [
        "  Округлить каждый элемент массива до указанного знака после запятой"
      ],
      "metadata": {
        "id": "451uRAyBZNX7"
      }
    },
    {
      "cell_type": "code",
      "source": [
        "b = a*1.025467\n",
        "b\n",
        "b.round(2)"
      ],
      "metadata": {
        "colab": {
          "base_uri": "https://localhost:8080/"
        },
        "id": "7clz6eEoZNjL",
        "outputId": "fdd98f6b-b2d7-4594-c347-a0c7d6b9403d"
      },
      "execution_count": 129,
      "outputs": [
        {
          "output_type": "execute_result",
          "data": {
            "text/plain": [
              "array([[1.03, 2.05, 3.08, 1.03],\n",
              "       [4.1 , 5.13, 6.15, 1.03],\n",
              "       [1.03, 2.05, 3.08, 1.03]])"
            ]
          },
          "metadata": {},
          "execution_count": 129
        }
      ]
    },
    {
      "cell_type": "markdown",
      "source": [
        "### Сортировка"
      ],
      "metadata": {
        "id": "gqQHCPuMZkx3"
      }
    },
    {
      "cell_type": "markdown",
      "source": [
        "Сравает все значения между собой"
      ],
      "metadata": {
        "id": "FW2a_8YxZl6K"
      }
    },
    {
      "cell_type": "code",
      "source": [
        "np.sort(b)"
      ],
      "metadata": {
        "colab": {
          "base_uri": "https://localhost:8080/"
        },
        "id": "A9F1V0weZk66",
        "outputId": "41b2f4e6-4a70-436c-93e8-13149d9b1a24"
      },
      "execution_count": 132,
      "outputs": [
        {
          "output_type": "execute_result",
          "data": {
            "text/plain": [
              "array([[1.025467, 1.025467, 2.050934, 3.076401],\n",
              "       [1.025467, 4.101868, 5.127335, 6.152802],\n",
              "       [1.025467, 1.025467, 2.050934, 3.076401]])"
            ]
          },
          "metadata": {},
          "execution_count": 132
        }
      ]
    },
    {
      "cell_type": "markdown",
      "source": [
        "Сравнивает массивы между собой"
      ],
      "metadata": {
        "id": "rz8qQZUoaGIT"
      }
    },
    {
      "cell_type": "code",
      "source": [
        "np.sort(b, axis=0)"
      ],
      "metadata": {
        "id": "pRE_RcxhZ6gu"
      },
      "execution_count": null,
      "outputs": []
    },
    {
      "cell_type": "markdown",
      "source": [
        "выводит индексы элементов ранжированные по значениям"
      ],
      "metadata": {
        "id": "8ZHl63PSaTSV"
      }
    },
    {
      "cell_type": "code",
      "source": [
        "np.argsort(b) #По умлочанию axis=1"
      ],
      "metadata": {
        "colab": {
          "base_uri": "https://localhost:8080/"
        },
        "id": "dh1UkoyyaSa9",
        "outputId": "f47a4a5b-6c24-42e4-ae5b-177568190d09"
      },
      "execution_count": 133,
      "outputs": [
        {
          "output_type": "execute_result",
          "data": {
            "text/plain": [
              "array([[0, 3, 1, 2],\n",
              "       [3, 0, 1, 2],\n",
              "       [0, 3, 1, 2]])"
            ]
          },
          "metadata": {},
          "execution_count": 133
        }
      ]
    },
    {
      "cell_type": "code",
      "source": [
        "np.argsort(b, axis=0)"
      ],
      "metadata": {
        "colab": {
          "base_uri": "https://localhost:8080/"
        },
        "id": "-9uY8--ra4Xt",
        "outputId": "20047c96-12d3-4d95-d53e-97670a873de3"
      },
      "execution_count": 134,
      "outputs": [
        {
          "output_type": "execute_result",
          "data": {
            "text/plain": [
              "array([[0, 0, 0, 0],\n",
              "       [2, 2, 2, 1],\n",
              "       [1, 1, 1, 2]])"
            ]
          },
          "metadata": {},
          "execution_count": 134
        }
      ]
    },
    {
      "cell_type": "markdown",
      "source": [
        "Плоский массив"
      ],
      "metadata": {
        "id": "bLlcNVT7bK4a"
      }
    },
    {
      "cell_type": "code",
      "source": [
        "np.argsort(b, axis=None)"
      ],
      "metadata": {
        "colab": {
          "base_uri": "https://localhost:8080/"
        },
        "id": "6dH-o0LebLAs",
        "outputId": "580e7842-d172-4651-ea29-575605947c2a"
      },
      "execution_count": 135,
      "outputs": [
        {
          "output_type": "execute_result",
          "data": {
            "text/plain": [
              "array([ 0,  3,  7,  8, 11,  1,  9,  2, 10,  4,  5,  6])"
            ]
          },
          "metadata": {},
          "execution_count": 135
        }
      ]
    },
    {
      "cell_type": "markdown",
      "source": [
        "Найти индекс минимального элемента\n"
      ],
      "metadata": {
        "id": "SqBuXbC0bflX"
      }
    },
    {
      "cell_type": "code",
      "source": [
        "np.argmin(b)"
      ],
      "metadata": {
        "colab": {
          "base_uri": "https://localhost:8080/"
        },
        "id": "dJIbdXvJbfta",
        "outputId": "46aef435-df94-4e07-cd26-c3fb86c4c3a8"
      },
      "execution_count": 139,
      "outputs": [
        {
          "output_type": "execute_result",
          "data": {
            "text/plain": [
              "0"
            ]
          },
          "metadata": {},
          "execution_count": 139
        }
      ]
    },
    {
      "cell_type": "markdown",
      "source": [
        "Найти индекс максимального элемента"
      ],
      "metadata": {
        "id": "c__ksvpBb0Qy"
      }
    },
    {
      "cell_type": "code",
      "source": [
        "np.argmax(a)"
      ],
      "metadata": {
        "colab": {
          "base_uri": "https://localhost:8080/"
        },
        "id": "og7EZBtKb0Xx",
        "outputId": "fee85aca-56ac-4bff-d91f-22823c0829a4"
      },
      "execution_count": 140,
      "outputs": [
        {
          "output_type": "execute_result",
          "data": {
            "text/plain": [
              "7"
            ]
          },
          "metadata": {},
          "execution_count": 140
        }
      ]
    },
    {
      "cell_type": "markdown",
      "source": [
        "Извлечь диагональ из квадрата матриц (по умолчанию - главная (от верхнего левого элемента к правому нижнему))"
      ],
      "metadata": {
        "id": "R0AQkE0EcG9X"
      }
    },
    {
      "cell_type": "code",
      "source": [
        "a = np.arange(9).reshape(3,3)\n",
        "a"
      ],
      "metadata": {
        "colab": {
          "base_uri": "https://localhost:8080/"
        },
        "id": "Xp76vPescHEY",
        "outputId": "fc845fb1-07f2-49cc-9773-1a3b483d086b"
      },
      "execution_count": 144,
      "outputs": [
        {
          "output_type": "execute_result",
          "data": {
            "text/plain": [
              "array([[0, 1, 2],\n",
              "       [3, 4, 5],\n",
              "       [6, 7, 8]])"
            ]
          },
          "metadata": {},
          "execution_count": 144
        }
      ]
    },
    {
      "cell_type": "code",
      "source": [
        "np.diag(a)"
      ],
      "metadata": {
        "colab": {
          "base_uri": "https://localhost:8080/"
        },
        "id": "HyUQoBZDcbDp",
        "outputId": "c17fc8e4-3220-4939-fd63-f17be4d798be"
      },
      "execution_count": 145,
      "outputs": [
        {
          "output_type": "execute_result",
          "data": {
            "text/plain": [
              "array([0, 4, 8])"
            ]
          },
          "metadata": {},
          "execution_count": 145
        }
      ]
    },
    {
      "cell_type": "markdown",
      "source": [
        "извлечь диагональ по значению k (если k > 0, то это диагональ над главной диагональю (справа),если  k < 0, то это диагональ под главной диагональю(слева))"
      ],
      "metadata": {
        "id": "ZWV8B14tcga6"
      }
    },
    {
      "cell_type": "code",
      "source": [
        "np.diag(a, k=-2)"
      ],
      "metadata": {
        "colab": {
          "base_uri": "https://localhost:8080/"
        },
        "id": "E3s_v-lCcgsj",
        "outputId": "a187dd3a-000c-401c-ba5b-3e543ab286ac"
      },
      "execution_count": 150,
      "outputs": [
        {
          "output_type": "execute_result",
          "data": {
            "text/plain": [
              "array([6])"
            ]
          },
          "metadata": {},
          "execution_count": 150
        }
      ]
    },
    {
      "cell_type": "markdown",
      "source": [
        "## Фильтрация"
      ],
      "metadata": {
        "id": "3a1ExvVtd6gn"
      }
    },
    {
      "cell_type": "markdown",
      "source": [
        "Фильтраця по условию (Получаем 2 массива. 1-строки, 2-столбцы. это положение эл-тов которые удовлетворяют условию)"
      ],
      "metadata": {
        "id": "ZP02ViJ1d_zW"
      }
    },
    {
      "cell_type": "code",
      "source": [
        "a"
      ],
      "metadata": {
        "colab": {
          "base_uri": "https://localhost:8080/"
        },
        "id": "0MVsDlxjfEc1",
        "outputId": "7b77fe4a-1e2c-4b3a-dcd1-a8fb8e60556e"
      },
      "execution_count": 157,
      "outputs": [
        {
          "output_type": "execute_result",
          "data": {
            "text/plain": [
              "array([[0, 1, 2],\n",
              "       [3, 4, 5],\n",
              "       [6, 7, 8]])"
            ]
          },
          "metadata": {},
          "execution_count": 157
        }
      ]
    },
    {
      "cell_type": "code",
      "source": [
        "np.where(a<3)"
      ],
      "metadata": {
        "colab": {
          "base_uri": "https://localhost:8080/"
        },
        "id": "TjjPhuoId9H3",
        "outputId": "7096f391-bbe6-47bf-bfca-5ed58da068e8"
      },
      "execution_count": 155,
      "outputs": [
        {
          "output_type": "execute_result",
          "data": {
            "text/plain": [
              "(array([0, 0, 0]), array([0, 1, 2]))"
            ]
          },
          "metadata": {},
          "execution_count": 155
        }
      ]
    },
    {
      "cell_type": "code",
      "source": [
        "np.where(a%2 ==1)"
      ],
      "metadata": {
        "colab": {
          "base_uri": "https://localhost:8080/"
        },
        "id": "oW_oR4oQd6q-",
        "outputId": "43bf85d9-15d4-4bc6-8006-b205adb7ab27"
      },
      "execution_count": 156,
      "outputs": [
        {
          "output_type": "execute_result",
          "data": {
            "text/plain": [
              "(array([0, 1, 1, 2]), array([1, 0, 2, 1]))"
            ]
          },
          "metadata": {},
          "execution_count": 156
        }
      ]
    },
    {
      "cell_type": "markdown",
      "source": [
        "Вернуть результат со значениямы в одномерном массиве"
      ],
      "metadata": {
        "id": "GbR_dr6kfYr7"
      }
    },
    {
      "cell_type": "code",
      "source": [
        "a[np.where(a%2 ==1)]"
      ],
      "metadata": {
        "colab": {
          "base_uri": "https://localhost:8080/"
        },
        "id": "oUX1ghyOfODb",
        "outputId": "b17bf66b-2374-44d5-bba6-7fbb5a0ca6b8"
      },
      "execution_count": 158,
      "outputs": [
        {
          "output_type": "execute_result",
          "data": {
            "text/plain": [
              "array([1, 3, 5, 7])"
            ]
          },
          "metadata": {},
          "execution_count": 158
        }
      ]
    },
    {
      "cell_type": "markdown",
      "source": [
        "Комбинирование условий"
      ],
      "metadata": {
        "id": "PFIY9Q9HftVl"
      }
    },
    {
      "cell_type": "markdown",
      "source": [
        "и"
      ],
      "metadata": {
        "id": "vNzPJddzgYL3"
      }
    },
    {
      "cell_type": "code",
      "source": [
        "np.where((a%2 == 1)&(a > 3))"
      ],
      "metadata": {
        "colab": {
          "base_uri": "https://localhost:8080/"
        },
        "id": "c1jqF2aaftfI",
        "outputId": "d8469561-0bc2-44ce-fb6f-1a9f3ce7a128"
      },
      "execution_count": 159,
      "outputs": [
        {
          "output_type": "execute_result",
          "data": {
            "text/plain": [
              "(array([1, 2]), array([2, 1]))"
            ]
          },
          "metadata": {},
          "execution_count": 159
        }
      ]
    },
    {
      "cell_type": "code",
      "source": [
        "np.where(np.logical_and(a%2 == 1,a > 3 ))"
      ],
      "metadata": {
        "colab": {
          "base_uri": "https://localhost:8080/"
        },
        "id": "whs_smHMgCf8",
        "outputId": "c0802927-8c3a-4a32-b3a3-a777257a1918"
      },
      "execution_count": 160,
      "outputs": [
        {
          "output_type": "execute_result",
          "data": {
            "text/plain": [
              "(array([1, 2]), array([2, 1]))"
            ]
          },
          "metadata": {},
          "execution_count": 160
        }
      ]
    },
    {
      "cell_type": "markdown",
      "source": [
        "или"
      ],
      "metadata": {
        "id": "ZkOCTpWXgZzV"
      }
    },
    {
      "cell_type": "code",
      "source": [
        "np.where((a%2 == 1)|(a > 3))"
      ],
      "metadata": {
        "colab": {
          "base_uri": "https://localhost:8080/"
        },
        "id": "I5hNOHDEgTnJ",
        "outputId": "2a95f379-ccab-4771-ff5d-a19c467c0456"
      },
      "execution_count": 162,
      "outputs": [
        {
          "output_type": "execute_result",
          "data": {
            "text/plain": [
              "(array([0, 1, 1, 1, 2, 2, 2]), array([1, 0, 1, 2, 0, 1, 2]))"
            ]
          },
          "metadata": {},
          "execution_count": 162
        }
      ]
    },
    {
      "cell_type": "code",
      "source": [
        "np.where(np.logical_or(a%2 == 1,a > 3 ))"
      ],
      "metadata": {
        "colab": {
          "base_uri": "https://localhost:8080/"
        },
        "id": "qpZV2uJAgO5M",
        "outputId": "2ca88d78-61b5-45d9-d7f9-75f502c489a1"
      },
      "execution_count": 161,
      "outputs": [
        {
          "output_type": "execute_result",
          "data": {
            "text/plain": [
              "(array([0, 1, 1, 1, 2, 2, 2]), array([1, 0, 1, 2, 0, 1, 2]))"
            ]
          },
          "metadata": {},
          "execution_count": 161
        }
      ]
    },
    {
      "cell_type": "markdown",
      "source": [
        "Можем менять значение отфильтрованных данных"
      ],
      "metadata": {
        "id": "y7biQv39gdDE"
      }
    },
    {
      "cell_type": "code",
      "source": [
        "np.where(a>5, a,-1)"
      ],
      "metadata": {
        "colab": {
          "base_uri": "https://localhost:8080/"
        },
        "id": "6MyogbvJgdwa",
        "outputId": "3f8ad8b4-1087-414d-ad73-4fa5f9066448"
      },
      "execution_count": 163,
      "outputs": [
        {
          "output_type": "execute_result",
          "data": {
            "text/plain": [
              "array([[-1, -1, -1],\n",
              "       [-1, -1, -1],\n",
              "       [ 6,  7,  8]])"
            ]
          },
          "metadata": {},
          "execution_count": 163
        }
      ]
    },
    {
      "cell_type": "code",
      "source": [
        "np.where(a%2 ==1 ,0, a**2 ) #(Условие, что, что не удовлетворяет условию, то что удовлетворяет)"
      ],
      "metadata": {
        "colab": {
          "base_uri": "https://localhost:8080/"
        },
        "id": "rpiBGGsIg2Fu",
        "outputId": "228f28d7-5c64-463a-ab75-3972dd8f4fbf"
      },
      "execution_count": 168,
      "outputs": [
        {
          "output_type": "execute_result",
          "data": {
            "text/plain": [
              "array([[ 0,  0,  4],\n",
              "       [ 0, 16,  0],\n",
              "       [36,  0, 64]])"
            ]
          },
          "metadata": {},
          "execution_count": 168
        }
      ]
    }
  ]
}